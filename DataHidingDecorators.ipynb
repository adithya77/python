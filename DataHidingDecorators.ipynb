{
 "cells": [
  {
   "cell_type": "code",
   "execution_count": 32,
   "metadata": {},
   "outputs": [],
   "source": [
    "class Exponent:\n",
    "    __a = 4\n",
    "    def power(self, pow):\n",
    "        self.__a **= pow\n",
    "        print(self.__a)"
   ]
  },
  {
   "cell_type": "code",
   "execution_count": 33,
   "metadata": {},
   "outputs": [],
   "source": [
    "obj = Exponent()"
   ]
  },
  {
   "cell_type": "code",
   "execution_count": 34,
   "metadata": {},
   "outputs": [
    {
     "name": "stdout",
     "output_type": "stream",
     "text": [
      "16\n"
     ]
    }
   ],
   "source": [
    "obj.power(2)\n"
   ]
  },
  {
   "cell_type": "code",
   "execution_count": 35,
   "metadata": {},
   "outputs": [
    {
     "data": {
      "text/plain": [
       "16"
      ]
     },
     "execution_count": 35,
     "metadata": {},
     "output_type": "execute_result"
    }
   ],
   "source": [
    "obj._Exponent__a"
   ]
  },
  {
   "cell_type": "code",
   "execution_count": 37,
   "metadata": {},
   "outputs": [
    {
     "data": {
      "text/plain": [
       "{'_Exponent__a': 16}"
      ]
     },
     "execution_count": 37,
     "metadata": {},
     "output_type": "execute_result"
    }
   ],
   "source": [
    "obj.__dict__"
   ]
  },
  {
   "cell_type": "code",
   "execution_count": null,
   "metadata": {},
   "outputs": [],
   "source": []
  },
  {
   "cell_type": "code",
   "execution_count": 53,
   "metadata": {},
   "outputs": [
    {
     "name": "stdout",
     "output_type": "stream",
     "text": [
      "Former Cricketer\n"
     ]
    }
   ],
   "source": [
    "def name(func):\n",
    "    def person():\n",
    "        func()\n",
    "        print('Sachin')\n",
    "        func()\n",
    "    return person\n",
    "\n",
    "def game():\n",
    "    print(\"Former Cricketer\")\n",
    "    \n",
    "game()"
   ]
  },
  {
   "cell_type": "code",
   "execution_count": 58,
   "metadata": {},
   "outputs": [
    {
     "name": "stdout",
     "output_type": "stream",
     "text": [
      "Former Cricketer\n",
      "Sachin\n",
      "Former Cricketer\n"
     ]
    }
   ],
   "source": [
    "result = name(game)\n",
    "result()"
   ]
  },
  {
   "cell_type": "code",
   "execution_count": null,
   "metadata": {},
   "outputs": [],
   "source": []
  },
  {
   "cell_type": "code",
   "execution_count": 64,
   "metadata": {},
   "outputs": [
    {
     "name": "stdout",
     "output_type": "stream",
     "text": [
      "Former Cricketer\n",
      "Sachin\n",
      "Former Cricketer\n"
     ]
    }
   ],
   "source": [
    "def name(func):\n",
    "    def person():\n",
    "        func()\n",
    "        print('Sachin')\n",
    "        func()\n",
    "    return person\n",
    "\n",
    "@name\n",
    "def game():\n",
    "    print(\"Former Cricketer\")\n",
    "    \n",
    "game()"
   ]
  },
  {
   "cell_type": "code",
   "execution_count": null,
   "metadata": {},
   "outputs": [],
   "source": []
  },
  {
   "cell_type": "code",
   "execution_count": 73,
   "metadata": {},
   "outputs": [
    {
     "name": "stdout",
     "output_type": "stream",
     "text": [
      "This is dividing\n",
      "0.5\n"
     ]
    }
   ],
   "source": [
    "def division(func):\n",
    "    def inner(a,b):\n",
    "        print('This is dividing')\n",
    "        if b==0:\n",
    "            print('Cannot divide')\n",
    "            return\n",
    "        print(func(a,b))\n",
    "    return inner\n",
    "\n",
    "@division\n",
    "def divide(a,b):\n",
    "    return a/b\n",
    "\n",
    "divide(1,2)"
   ]
  },
  {
   "cell_type": "code",
   "execution_count": null,
   "metadata": {},
   "outputs": [],
   "source": []
  }
 ],
 "metadata": {
  "kernelspec": {
   "display_name": "Python 3",
   "language": "python",
   "name": "python3"
  },
  "language_info": {
   "codemirror_mode": {
    "name": "ipython",
    "version": 3
   },
   "file_extension": ".py",
   "mimetype": "text/x-python",
   "name": "python",
   "nbconvert_exporter": "python",
   "pygments_lexer": "ipython3",
   "version": "3.6.4"
  }
 },
 "nbformat": 4,
 "nbformat_minor": 2
}
