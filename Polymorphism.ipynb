{
 "cells": [
  {
   "cell_type": "code",
   "execution_count": 2,
   "metadata": {},
   "outputs": [],
   "source": [
    "class Shark():\n",
    "    def swim(self):\n",
    "        print(\"the shark is swimming\")\n",
    "    \n",
    "    def swim_backwards(self):\n",
    "        print(\"The shark can't swim backwards\")\n",
    "    \n",
    "    def skeleton(self):\n",
    "        print(\"The sharks skeleton is made of cartilage\")"
   ]
  },
  {
   "cell_type": "code",
   "execution_count": 4,
   "metadata": {},
   "outputs": [],
   "source": [
    "class ClownFish():\n",
    "    def swim(self):\n",
    "        print(\"the clownfish is swimming\")\n",
    "    \n",
    "    def swim_backwards(self):\n",
    "        print(\"The clownfish can swim backwards\")\n",
    "    \n",
    "    def skeleton(self):\n",
    "        print(\"The clownfish skeleton is made of bone\")"
   ]
  },
  {
   "cell_type": "code",
   "execution_count": 8,
   "metadata": {},
   "outputs": [
    {
     "name": "stdout",
     "output_type": "stream",
     "text": [
      "The sharks skeleton is made of cartilage\n",
      "The clownfish skeleton is made of bone\n"
     ]
    }
   ],
   "source": [
    "sammy = Shark()\n",
    "sammy.skeleton()\n",
    "\n",
    "jimmy = ClownFish()\n",
    "jimmy.skeleton()"
   ]
  },
  {
   "cell_type": "code",
   "execution_count": 10,
   "metadata": {},
   "outputs": [
    {
     "name": "stdout",
     "output_type": "stream",
     "text": [
      "The shark can't swim backwards\n",
      "The clownfish can swim backwards\n"
     ]
    }
   ],
   "source": [
    "for fish in (sammy, jimmy):\n",
    "    fish.swim_backwards()"
   ]
  },
  {
   "cell_type": "code",
   "execution_count": 12,
   "metadata": {},
   "outputs": [],
   "source": [
    "def ocean(fish):\n",
    "    fish.swim()\n",
    "    "
   ]
  },
  {
   "cell_type": "code",
   "execution_count": 14,
   "metadata": {},
   "outputs": [
    {
     "name": "stdout",
     "output_type": "stream",
     "text": [
      "the shark is swimming\n"
     ]
    }
   ],
   "source": [
    "ocean(sammy)"
   ]
  },
  {
   "cell_type": "code",
   "execution_count": 16,
   "metadata": {},
   "outputs": [
    {
     "name": "stdout",
     "output_type": "stream",
     "text": [
      "the clownfish is swimming\n"
     ]
    }
   ],
   "source": [
    "ocean(jimmy)"
   ]
  },
  {
   "cell_type": "code",
   "execution_count": null,
   "metadata": {},
   "outputs": [],
   "source": []
  },
  {
   "cell_type": "code",
   "execution_count": 26,
   "metadata": {},
   "outputs": [
    {
     "name": "stdout",
     "output_type": "stream",
     "text": [
      "MyTruck  :  Driving slowly, because its Loaded Heavily\n",
      "MyAnotherTruck  :  Driving slowly, because its Loaded Heavily\n",
      "MyCar  :  Sports Car Driving vroomm vroomm\n"
     ]
    }
   ],
   "source": [
    "class Car():\n",
    "    def __init__(self, name):\n",
    "        self.name = name\n",
    "    def drive(self):\n",
    "        raise NotImplementedError('subclass must implement abstract method')\n",
    "    def stop(self):\n",
    "        raise NotImplementedError('subclass must implement abstract method')\n",
    "        \n",
    "class SportsCar(Car):\n",
    "    def drive(self):\n",
    "        return 'Sports Car Driving vroomm vroomm'\n",
    "    def stop(self):\n",
    "        return 'SportsCar braking'\n",
    "    \n",
    "class Truck(Car):\n",
    "    def drive(self):\n",
    "        return 'Driving slowly, because its Loaded Heavily'\n",
    "    def stop(self):\n",
    "        return 'Truck braking'\n",
    "    \n",
    "cars = [Truck('MyTruck'), Truck('MyAnotherTruck'), SportsCar('MyCar')]\n",
    "\n",
    "for car in cars:\n",
    "    print(car.name,' : ',car.drive())"
   ]
  }
 ],
 "metadata": {
  "kernelspec": {
   "display_name": "Python 3",
   "language": "python",
   "name": "python3"
  },
  "language_info": {
   "codemirror_mode": {
    "name": "ipython",
    "version": 3
   },
   "file_extension": ".py",
   "mimetype": "text/x-python",
   "name": "python",
   "nbconvert_exporter": "python",
   "pygments_lexer": "ipython3",
   "version": "3.6.4"
  }
 },
 "nbformat": 4,
 "nbformat_minor": 2
}
