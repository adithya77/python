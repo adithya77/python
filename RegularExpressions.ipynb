{
 "cells": [
  {
   "cell_type": "code",
   "execution_count": 2,
   "metadata": {},
   "outputs": [],
   "source": [
    "import re"
   ]
  },
  {
   "cell_type": "code",
   "execution_count": 11,
   "metadata": {},
   "outputs": [
    {
     "name": "stdout",
     "output_type": "stream",
     "text": [
      "match\n"
     ]
    }
   ],
   "source": [
    "s = 'dingdongdingdong'\n",
    "if re.match('ding',s):\n",
    "    print('match')\n",
    "else: print('no match')"
   ]
  },
  {
   "cell_type": "code",
   "execution_count": 13,
   "metadata": {},
   "outputs": [
    {
     "name": "stdout",
     "output_type": "stream",
     "text": [
      "no match\n"
     ]
    }
   ],
   "source": [
    "if re.match('dong',s):\n",
    "    print('match')\n",
    "else: print('no match')"
   ]
  },
  {
   "cell_type": "raw",
   "metadata": {},
   "source": []
  },
  {
   "cell_type": "code",
   "execution_count": 16,
   "metadata": {},
   "outputs": [
    {
     "name": "stdout",
     "output_type": "stream",
     "text": [
      "match\n"
     ]
    }
   ],
   "source": [
    "if re.search('dong', s):\n",
    "    print('match')\n",
    "else:\n",
    "    print('no mtach')"
   ]
  },
  {
   "cell_type": "code",
   "execution_count": 19,
   "metadata": {},
   "outputs": [
    {
     "name": "stdout",
     "output_type": "stream",
     "text": [
      "['ding', 'ding']\n"
     ]
    }
   ],
   "source": [
    "print(re.findall('ding',s))"
   ]
  },
  {
   "cell_type": "code",
   "execution_count": 21,
   "metadata": {},
   "outputs": [
    {
     "name": "stdout",
     "output_type": "stream",
     "text": [
      "2\n"
     ]
    }
   ],
   "source": [
    "print(len(re.findall('ding',s)))"
   ]
  },
  {
   "cell_type": "code",
   "execution_count": 25,
   "metadata": {},
   "outputs": [
    {
     "name": "stdout",
     "output_type": "stream",
     "text": [
      "ding\n",
      "0\n",
      "4\n",
      "(0, 4)\n"
     ]
    }
   ],
   "source": [
    "x = re.search('ding',s)\n",
    "print(x.group())\n",
    "print(x.start())\n",
    "print(x.end())\n",
    "print(x.span())"
   ]
  },
  {
   "cell_type": "code",
   "execution_count": 42,
   "metadata": {},
   "outputs": [],
   "source": [
    "def match(func):\n",
    "    def inner(a,b):\n",
    "        if(func(a,b)):\n",
    "            print('match')\n",
    "        else :\n",
    "            print('no match')"
   ]
  },
  {
   "cell_type": "code",
   "execution_count": 29,
   "metadata": {},
   "outputs": [
    {
     "name": "stdout",
     "output_type": "stream",
     "text": [
      "dingdongdingdong\n",
      "bongdongbongdong\n"
     ]
    }
   ],
   "source": [
    "#sub\n",
    "replace = re.sub('ding','bong',s)\n",
    "print(s)\n",
    "print(replace)"
   ]
  },
  {
   "cell_type": "code",
   "execution_count": 46,
   "metadata": {},
   "outputs": [
    {
     "name": "stdout",
     "output_type": "stream",
     "text": [
      "match\n",
      "match\n",
      "no match\n"
     ]
    }
   ],
   "source": [
    "c1 = 'grey'\n",
    "c2 = 'gray'\n",
    "c3 = 'fsfgruysd'\n",
    "pattern = r'^gr.y$'\n",
    "\n",
    "if(re.match(pattern, c1)):\n",
    "    print('match')\n",
    "else : print('no match')\n",
    "    \n",
    "if(re.match(pattern, c2)):\n",
    "    print('match')\n",
    "else : print('no match')\n",
    "    \n",
    "if(re.match(pattern, c3)):\n",
    "    print('match')\n",
    "else : print('no match')\n",
    "    "
   ]
  },
  {
   "cell_type": "code",
   "execution_count": 41,
   "metadata": {},
   "outputs": [],
   "source": [
    "def match(func):\n",
    "    def inner(a,b):\n",
    "        if(func(a,b)):\n",
    "            print('match')\n",
    "        else :\n",
    "            print('no match')"
   ]
  },
  {
   "cell_type": "code",
   "execution_count": 48,
   "metadata": {},
   "outputs": [
    {
     "name": "stdout",
     "output_type": "stream",
     "text": [
      "Match\n"
     ]
    }
   ],
   "source": [
    "pattern = r'[aeiou]'\n",
    "if(re.search(pattern, 'grey')):\n",
    "    print('Match')"
   ]
  },
  {
   "cell_type": "code",
   "execution_count": null,
   "metadata": {},
   "outputs": [],
   "source": []
  },
  {
   "cell_type": "code",
   "execution_count": 76,
   "metadata": {},
   "outputs": [
    {
     "name": "stdout",
     "output_type": "stream",
     "text": [
      "match\n"
     ]
    }
   ],
   "source": [
    "pattern = r\"[a-zA-Z0-9]\"\n",
    "if(re.search(pattern, '9YOO2334')):\n",
    "    print('match')"
   ]
  },
  {
   "cell_type": "code",
   "execution_count": 80,
   "metadata": {},
   "outputs": [
    {
     "name": "stdout",
     "output_type": "stream",
     "text": [
      "Match1\n",
      "Match2\n"
     ]
    }
   ],
   "source": [
    "#^ in first position is like negation\n",
    "pattern = r'[^A-Z]'\n",
    "if re.search(pattern, \"hi hello namaste\"):\n",
    "    print('Match1')\n",
    "if re.search(pattern, \"Hi Hello Naaste\"):\n",
    "    print('Match2')\n",
    "if re.search(pattern, \"HI\"):\n",
    "    print('Match3')"
   ]
  },
  {
   "cell_type": "code",
   "execution_count": 88,
   "metadata": {},
   "outputs": [
    {
     "name": "stdout",
     "output_type": "stream",
     "text": [
      "Match2\n",
      "Match4\n"
     ]
    }
   ],
   "source": [
    "#contain p or ^, if ^ is given non-first location, it is like another character\n",
    "pattern = r'[p^]'\n",
    "if re.search(pattern, \"hi hello namaste\"):\n",
    "    print('Match1')\n",
    "if re.search(pattern, \"psdf\"):\n",
    "    print('Match2')\n",
    "if re.search(pattern, \"HI\"):\n",
    "    print('Match3')\n",
    "if re.search(pattern, \"^\"):\n",
    "    print('Match4')"
   ]
  },
  {
   "cell_type": "code",
   "execution_count": 90,
   "metadata": {},
   "outputs": [
    {
     "name": "stdout",
     "output_type": "stream",
     "text": [
      "Match4\n"
     ]
    }
   ],
   "source": [
    "#starting with ^\n",
    "pattern = r'[\\^]'\n",
    "if re.search(pattern, \"hi hello namaste\"):\n",
    "    print('Match1')\n",
    "if re.search(pattern, \"psdf\"):\n",
    "    print('Match2')\n",
    "if re.search(pattern, \"HI\"):\n",
    "    print('Match3')\n",
    "if re.search(pattern, \"^\"):\n",
    "    print('Match4')"
   ]
  },
  {
   "cell_type": "code",
   "execution_count": 93,
   "metadata": {},
   "outputs": [
    {
     "name": "stdout",
     "output_type": "stream",
     "text": [
      "match1\n",
      "match2\n"
     ]
    }
   ],
   "source": [
    "#zero or more occurences of spam\n",
    "pattern = r\"egg(spam)*\"\n",
    "\n",
    "if re.match(pattern, 'egg'):\n",
    "    print('match1')\n",
    "if re.match(pattern, 'eggspamspamegg'):\n",
    "    print('match2')\n",
    "if re.match(pattern, 'spam'):\n",
    "    print('match3')"
   ]
  },
  {
   "cell_type": "code",
   "execution_count": 98,
   "metadata": {},
   "outputs": [
    {
     "name": "stdout",
     "output_type": "stream",
     "text": [
      "match1\n",
      "match2\n",
      "match3\n"
     ]
    }
   ],
   "source": [
    "#zero or more occurences of g\n",
    "pattern = r\"g*\"\n",
    "\n",
    "if re.match(pattern, 'g'):\n",
    "    print('match1')\n",
    "if re.match(pattern, 'gg'):\n",
    "    print('match2')\n",
    "if re.match(pattern, 'sf'):\n",
    "    print('match3')"
   ]
  },
  {
   "cell_type": "code",
   "execution_count": 101,
   "metadata": {},
   "outputs": [
    {
     "name": "stdout",
     "output_type": "stream",
     "text": [
      "match1\n",
      "match2\n"
     ]
    }
   ],
   "source": [
    "#one or more occurences of g\n",
    "pattern = r\"g+\"\n",
    "\n",
    "if re.match(pattern, 'g'):\n",
    "    print('match1')\n",
    "if re.match(pattern, 'gg'):\n",
    "    print('match2')\n",
    "if re.match(pattern, 'sf'):\n",
    "    print('match3')"
   ]
  },
  {
   "cell_type": "code",
   "execution_count": 105,
   "metadata": {},
   "outputs": [
    {
     "name": "stdout",
     "output_type": "stream",
     "text": [
      "match1\n",
      "match2\n"
     ]
    }
   ],
   "source": [
    "# ? -> zero or one occurence of -\n",
    "pattern = r'ice(-)?cream'\n",
    "if re.match(pattern, 'icecream'):\n",
    "    print('match1')\n",
    "if re.match(pattern, 'ice-cream'):\n",
    "    print('match2')\n",
    "if re.match(pattern, 'ice--cream'):\n",
    "    print(match3)\n",
    "if re.match(pattern, 'ice-ice'):\n",
    "    print(match3)"
   ]
  },
  {
   "cell_type": "code",
   "execution_count": 123,
   "metadata": {},
   "outputs": [
    {
     "name": "stdout",
     "output_type": "stream",
     "text": [
      "match1\n",
      "match2\n",
      "match3\n"
     ]
    }
   ],
   "source": [
    "pattern = r'9{1,3}$'\n",
    "if re.match(pattern, '9'):\n",
    "    print('match1')\n",
    "if re.match(pattern, '99'):\n",
    "    print('match2')\n",
    "if re.match(pattern, '999'):\n",
    "    print('match3')\n",
    "if re.match(pattern, '9999'):\n",
    "    print('match4')\n",
    "if re.match(pattern, '7'):\n",
    "    print('match5')"
   ]
  }
 ],
 "metadata": {
  "kernelspec": {
   "display_name": "Python 3",
   "language": "python",
   "name": "python3"
  },
  "language_info": {
   "codemirror_mode": {
    "name": "ipython",
    "version": 3
   },
   "file_extension": ".py",
   "mimetype": "text/x-python",
   "name": "python",
   "nbconvert_exporter": "python",
   "pygments_lexer": "ipython3",
   "version": "3.6.4"
  }
 },
 "nbformat": 4,
 "nbformat_minor": 2
}
